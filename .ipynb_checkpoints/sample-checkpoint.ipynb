{
 "cells": [
  {
   "cell_type": "code",
   "execution_count": 9,
   "id": "99858f08",
   "metadata": {},
   "outputs": [
    {
     "name": "stdout",
     "output_type": "stream",
     "text": [
      "WARNING:tensorflow:Compiled the loaded model, but the compiled metrics have yet to be built. `model.compile_metrics` will be empty until you train or evaluate the model.\n",
      "M1##jw7D\n",
      "::1DF\n",
      "|:\"D\"DFA \"G\"B2A|\"D\"dcd cdf|\"D\"faf \"A7\"gec|\"A7\"edB A2:|\n",
      "\n",
      "\n",
      "X: 131\n",
      "T:Tam's Hanting Taap\n",
      "% Nottingham Music Database\n",
      "S:Trad, arr Phil Rowe\n",
      "M:6/8\n",
      "K:G\n",
      "D|\"G\"G3 \"C\"gfe|\"G\"d2c \"Em\"B2c/2d|\"Am\"c2A \"D7\"A2A|\"G\"BG2 G2B|\n",
      "\"G\"d2B GBc|\"G\"d2d \"D/f+\"d2c|\"G\"B2G \"D7\"cAF|\"G\"G3 G2|:\n",
      "F/2G/2|\"D\"A2A \"Am\"c2c|\"G\"Bcd \"D7\"cBA|\"G\"GAG G2:|\n",
      "P:B\n",
      "d|\"G\"g3 \"D7\"def|\"G\"gfg dBG|\"Am\"ABA \"D7\"cAd|\"G\"Bcd \"Em\"g2f|\"Am\"edc \"D7\"B2c|\n",
      "\"G\"Bcd def|\"D\"def \"C\"efg|\"G\"dBG GAB|\"D7\"AFG c2d|\n",
      "\"G\"GdB BAG|\"D7\"ABA A2G|\"D7\"fgf edc|\"G\"B2B Bg2|\n",
      "\"G\"bgd dBd|\"C\n"
     ]
    }
   ],
   "source": [
    "import os\n",
    "import json\n",
    "import numpy as np\n",
    "from model import build_model, load_weights\n",
    "from keras.models import Sequential, load_model\n",
    "from keras.layers import LSTM, Dropout, TimeDistributed, Dense, Activation, Embedding\n",
    "\n",
    "DATA_DIR = './data'\n",
    "MODEL_DIR = './model'\n",
    "\n",
    "def create_model(v_size):\n",
    "    model = Sequential()\n",
    "    model.add(Embedding(v_size, 512, batch_input_shape=(1, 1)))\n",
    "    for i in range(3):\n",
    "        model.add(LSTM(256, return_sequences=(i != 2), stateful=True))\n",
    "        model.add(Dropout(0.2))\n",
    "    model.add(Dense(v_size))\n",
    "    model.add(Activation('softmax'))\n",
    "    return model\n",
    "\n",
    "def sample_input(epoch, header, total_chars):\n",
    "    with open(os.path.join(DATA_DIR, 'char_to_idx.json')) as f:\n",
    "        char_idx = json.load(f)\n",
    "    idx_to_char = { i: ch for (ch, i) in char_idx.items() }\n",
    "    v_size = len(char_idx)\n",
    "    model = create_model(v_size)\n",
    "    load_weights(epoch, model)\n",
    "    model.save(os.path.join(MODEL_DIR, 'model.{}.h5'.format(epoch)))\n",
    "    sampled = [char_idx[c] for c in header]\n",
    "    for i in range(total_chars):\n",
    "        batch = np.zeros((1, 1))\n",
    "        if sampled:\n",
    "            batch[0, 0] = sampled[-1]\n",
    "        else:\n",
    "            batch[0, 0] = np.random.randint(v_size)\n",
    "        out = model.predict_on_batch(batch).ravel()\n",
    "        sample = np.random.choice(range(v_size), p=out)\n",
    "        sampled.append(sample)\n",
    "\n",
    "    return ''.join(idx_to_char[c] for c in sampled)\n",
    "\n",
    "if __name__ == '__main__':\n",
    "      print(sample_input(100,\"\" , 512))"
   ]
  },
  {
   "cell_type": "code",
   "execution_count": null,
   "id": "3657ce6c",
   "metadata": {},
   "outputs": [],
   "source": []
  }
 ],
 "metadata": {
  "kernelspec": {
   "display_name": "Python 3",
   "language": "python",
   "name": "python3"
  },
  "language_info": {
   "codemirror_mode": {
    "name": "ipython",
    "version": 3
   },
   "file_extension": ".py",
   "mimetype": "text/x-python",
   "name": "python",
   "nbconvert_exporter": "python",
   "pygments_lexer": "ipython3",
   "version": "3.8.8"
  }
 },
 "nbformat": 4,
 "nbformat_minor": 5
}
